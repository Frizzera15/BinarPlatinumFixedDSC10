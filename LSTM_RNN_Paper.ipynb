{
 "cells": [
  {
   "cell_type": "code",
   "execution_count": 2,
   "metadata": {},
   "outputs": [
    {
     "name": "stderr",
     "output_type": "stream",
     "text": [
      "2023-09-11 10:14:00.726554: I tensorflow/core/platform/cpu_feature_guard.cc:182] This TensorFlow binary is optimized to use available CPU instructions in performance-critical operations.\n",
      "To enable the following instructions: AVX2 FMA, in other operations, rebuild TensorFlow with the appropriate compiler flags.\n"
     ]
    }
   ],
   "source": [
    "import pandas as pd\n",
    "import pickle\n",
    "import re\n",
    "\n",
    "from keras.preprocessing.text import Tokenizer, text_to_word_sequence\n",
    "from keras.preprocessing.sequence import pad_sequences\n",
    "from collections import defaultdict\n",
    "from sklearn.model_selection import train_test_split\n",
    "from sklearn import metrics\n",
    "import numpy as np\n",
    "from keras import layers\n",
    "from keras.models import Sequential, load_model, save_model\n",
    "from keras.layers import Dense, Embedding, LSTM, SpatialDropout1D, SimpleRNN, Activation\n",
    "from keras import optimizers\n",
    "from keras.callbacks import EarlyStopping, TensorBoard\n",
    "from keras.layers import Flatten\n",
    "from keras import backend as K\n",
    "import numpy as np\n",
    "from sklearn.metrics import classification_report\n",
    "from sklearn.metrics import accuracy_score\n",
    "from sklearn.model_selection import KFold\n",
    "import matplotlib.pyplot as plt\n",
    "import re\n",
    "from keras.models import load_model\n",
    "from sklearn.preprocessing import OneHotEncoder"
   ]
  },
  {
   "cell_type": "code",
   "execution_count": 3,
   "metadata": {},
   "outputs": [
    {
     "data": {
      "text/html": [
       "<div>\n",
       "<style scoped>\n",
       "    .dataframe tbody tr th:only-of-type {\n",
       "        vertical-align: middle;\n",
       "    }\n",
       "\n",
       "    .dataframe tbody tr th {\n",
       "        vertical-align: top;\n",
       "    }\n",
       "\n",
       "    .dataframe thead th {\n",
       "        text-align: right;\n",
       "    }\n",
       "</style>\n",
       "<table border=\"1\" class=\"dataframe\">\n",
       "  <thead>\n",
       "    <tr style=\"text-align: right;\">\n",
       "      <th></th>\n",
       "      <th>clean_text</th>\n",
       "      <th>stopw_clean</th>\n",
       "      <th>label</th>\n",
       "    </tr>\n",
       "  </thead>\n",
       "  <tbody>\n",
       "    <tr>\n",
       "      <th>1</th>\n",
       "      <td>warung ini dimiliki oleh pengusaha pabrik tahu...</td>\n",
       "      <td>warung dimiliki pengusaha pabrik puluhan terke...</td>\n",
       "      <td>positive</td>\n",
       "    </tr>\n",
       "    <tr>\n",
       "      <th>2</th>\n",
       "      <td>mohon ulama lurus dan k212 mmbri hujjah paai a...</td>\n",
       "      <td>mohon ulama lurus k212 mmbri hujjah paai diwlh...</td>\n",
       "      <td>neutral</td>\n",
       "    </tr>\n",
       "    <tr>\n",
       "      <th>3</th>\n",
       "      <td>lokasi strategis di jalan sumatera bandung tem...</td>\n",
       "      <td>lokasi strategis jalan sumatera bandung nya ny...</td>\n",
       "      <td>positive</td>\n",
       "    </tr>\n",
       "    <tr>\n",
       "      <th>4</th>\n",
       "      <td>betapa bahagia nya diri ini saat unboxing pake...</td>\n",
       "      <td>betapa bahagia nya unboxing paket barang nya b...</td>\n",
       "      <td>positive</td>\n",
       "    </tr>\n",
       "    <tr>\n",
       "      <th>5</th>\n",
       "      <td>duh jadi mahasiswa jangan sombong dong kasih k...</td>\n",
       "      <td>duh mahasiswa sombong kasih kau kuning belajar...</td>\n",
       "      <td>negative</td>\n",
       "    </tr>\n",
       "    <tr>\n",
       "      <th>...</th>\n",
       "      <td>...</td>\n",
       "      <td>...</td>\n",
       "      <td>...</td>\n",
       "    </tr>\n",
       "    <tr>\n",
       "      <th>10996</th>\n",
       "      <td>tidak kecewa</td>\n",
       "      <td>kecewa</td>\n",
       "      <td>positive</td>\n",
       "    </tr>\n",
       "    <tr>\n",
       "      <th>10997</th>\n",
       "      <td>enak rasa masakan nya apalagi kepiting yang me...</td>\n",
       "      <td>enak masakan nya kepiting menyenangkan memilih...</td>\n",
       "      <td>positive</td>\n",
       "    </tr>\n",
       "    <tr>\n",
       "      <th>10998</th>\n",
       "      <td>hormati paai paai yang telah berkoalisi</td>\n",
       "      <td>hormati paai paai berkoalisi</td>\n",
       "      <td>neutral</td>\n",
       "    </tr>\n",
       "    <tr>\n",
       "      <th>10999</th>\n",
       "      <td>pagi pagi di tol pasteur sudah macet parah bik...</td>\n",
       "      <td>pagi pagi tol pasteur macet parah bikin jengkel</td>\n",
       "      <td>negative</td>\n",
       "    </tr>\n",
       "    <tr>\n",
       "      <th>11000</th>\n",
       "      <td>meskipun sering belanja ke yogya di riau junct...</td>\n",
       "      <td>belanja yogya riau junction peama kali lihat f...</td>\n",
       "      <td>positive</td>\n",
       "    </tr>\n",
       "  </tbody>\n",
       "</table>\n",
       "<p>11000 rows × 3 columns</p>\n",
       "</div>"
      ],
      "text/plain": [
       "                                              clean_text  \\\n",
       "1      warung ini dimiliki oleh pengusaha pabrik tahu...   \n",
       "2      mohon ulama lurus dan k212 mmbri hujjah paai a...   \n",
       "3      lokasi strategis di jalan sumatera bandung tem...   \n",
       "4      betapa bahagia nya diri ini saat unboxing pake...   \n",
       "5      duh jadi mahasiswa jangan sombong dong kasih k...   \n",
       "...                                                  ...   \n",
       "10996                                       tidak kecewa   \n",
       "10997  enak rasa masakan nya apalagi kepiting yang me...   \n",
       "10998            hormati paai paai yang telah berkoalisi   \n",
       "10999  pagi pagi di tol pasteur sudah macet parah bik...   \n",
       "11000  meskipun sering belanja ke yogya di riau junct...   \n",
       "\n",
       "                                             stopw_clean     label  \n",
       "1      warung dimiliki pengusaha pabrik puluhan terke...  positive  \n",
       "2      mohon ulama lurus k212 mmbri hujjah paai diwlh...   neutral  \n",
       "3      lokasi strategis jalan sumatera bandung nya ny...  positive  \n",
       "4      betapa bahagia nya unboxing paket barang nya b...  positive  \n",
       "5      duh mahasiswa sombong kasih kau kuning belajar...  negative  \n",
       "...                                                  ...       ...  \n",
       "10996                                             kecewa  positive  \n",
       "10997  enak masakan nya kepiting menyenangkan memilih...  positive  \n",
       "10998                       hormati paai paai berkoalisi   neutral  \n",
       "10999    pagi pagi tol pasteur macet parah bikin jengkel  negative  \n",
       "11000  belanja yogya riau junction peama kali lihat f...  positive  \n",
       "\n",
       "[11000 rows x 3 columns]"
      ]
     },
     "execution_count": 3,
     "metadata": {},
     "output_type": "execute_result"
    }
   ],
   "source": [
    "df = pd.read_csv('/Users/januardopanggabean/Challenge Platinum Binar/data/processed_data.csv', header=None ).drop(0)\n",
    "df.columns=['clean_text', 'stopw_clean','label']\n",
    "df"
   ]
  },
  {
   "cell_type": "code",
   "execution_count": 4,
   "metadata": {},
   "outputs": [],
   "source": [
    "neg = df.loc[df['label'] == 'negative'].clean_text.tolist()\n",
    "neu = df.loc[df['label'] == 'neutral'].clean_text.tolist()\n",
    "pos = df.loc[df['label'] == 'positive'].clean_text.tolist()\n",
    "\n",
    "neg_label = df.loc[df['label'] == 'negative'].label.tolist()\n",
    "neu_label = df.loc[df['label'] == 'neutral'].label.tolist()\n",
    "pos_label = df.loc[df['label'] == 'positive'].label.tolist()"
   ]
  },
  {
   "cell_type": "code",
   "execution_count": 5,
   "metadata": {},
   "outputs": [
    {
     "name": "stdout",
     "output_type": "stream",
     "text": [
      "Pos: 6416, Neu: 1148, Neg: 3436\n",
      "Total data: 11000\n"
     ]
    }
   ],
   "source": [
    "total_data = pos + neu + neg\n",
    "labels = pos_label + neu_label + neg_label\n",
    "\n",
    "print(\"Pos: %s, Neu: %s, Neg: %s\" % (len(pos), len(neu), len(neg)))\n",
    "print(\"Total data: %s\" % len(total_data))"
   ]
  },
  {
   "cell_type": "code",
   "execution_count": 6,
   "metadata": {},
   "outputs": [],
   "source": [
    "train_data, test_data = train_test_split(df, test_size=0.2, random_state=0)\n",
    "train_data, val_data = train_test_split(train_data, test_size=0.2, random_state=0)"
   ]
  },
  {
   "cell_type": "code",
   "execution_count": 7,
   "metadata": {},
   "outputs": [
    {
     "name": "stdout",
     "output_type": "stream",
     "text": [
      "(7040, 3)\n"
     ]
    }
   ],
   "source": [
    "print(train_data.shape)\n"
   ]
  },
  {
   "cell_type": "code",
   "execution_count": 8,
   "metadata": {},
   "outputs": [],
   "source": [
    "tokenizer = Tokenizer(oov_token='<UNK>')"
   ]
  },
  {
   "cell_type": "code",
   "execution_count": 9,
   "metadata": {},
   "outputs": [],
   "source": [
    "tokenizer.fit_on_texts(train_data['clean_text'])"
   ]
  },
  {
   "cell_type": "code",
   "execution_count": 10,
   "metadata": {},
   "outputs": [],
   "source": [
    "train_data_tf = tokenizer.texts_to_sequences(train_data['clean_text'])\n",
    "val_data_tf = tokenizer.texts_to_sequences(val_data['clean_text'])\n",
    "test_data_tf = tokenizer.texts_to_sequences(test_data['clean_text'])"
   ]
  },
  {
   "cell_type": "code",
   "execution_count": 11,
   "metadata": {},
   "outputs": [],
   "source": [
    "max_len = int(np.quantile([len(x) for x in train_data_tf], 0.9))\n",
    "\n",
    "train_padded = pad_sequences(sequences=train_data_tf,\n",
    "                             padding='post',maxlen = max_len)\n",
    "val_padded = pad_sequences(sequences=val_data_tf,padding='post', maxlen=max_len)\n",
    "test_padded = pad_sequences(sequences=test_data_tf,padding='post',maxlen=max_len)"
   ]
  },
  {
   "cell_type": "code",
   "execution_count": 13,
   "metadata": {},
   "outputs": [],
   "source": [
    "onehot = OneHotEncoder()"
   ]
  },
  {
   "cell_type": "code",
   "execution_count": 14,
   "metadata": {},
   "outputs": [],
   "source": [
    "train_labels = onehot.fit_transform(train_data[['label']]).toarray()\n",
    "valid_labels = onehot.transform(val_data[['label']]).toarray()\n",
    "test_labels = onehot.transform(test_data[['label']]).toarray()"
   ]
  },
  {
   "cell_type": "code",
   "execution_count": 15,
   "metadata": {},
   "outputs": [],
   "source": [
    "from tensorflow.keras.models import Sequential\n",
    "model = Sequential()"
   ]
  },
  {
   "cell_type": "code",
   "execution_count": 50,
   "metadata": {},
   "outputs": [],
   "source": [
    "max_features = len(tokenizer.index_word)\n",
    "batch_sizes=32\n",
    "output_dims=64\n",
    "labels_tmp=32\n",
    "input_len = max_len"
   ]
  },
  {
   "cell_type": "code",
   "execution_count": 30,
   "metadata": {},
   "outputs": [
    {
     "name": "stdout",
     "output_type": "stream",
     "text": [
      "60\n"
     ]
    }
   ],
   "source": [
    "print(max_len)"
   ]
  },
  {
   "cell_type": "code",
   "execution_count": 17,
   "metadata": {},
   "outputs": [
    {
     "data": {
      "text/plain": [
       "13643"
      ]
     },
     "execution_count": 17,
     "metadata": {},
     "output_type": "execute_result"
    }
   ],
   "source": [
    "len(tokenizer.index_word)"
   ]
  },
  {
   "cell_type": "code",
   "execution_count": 51,
   "metadata": {},
   "outputs": [],
   "source": [
    "model = Sequential()\n",
    "model.add(layers.Embedding(input_dim=len(tokenizer.index_word)+1,\n",
    "                                 output_dim=output_dims, \n",
    "                                 input_length=max_len))\n",
    "model.add(layers.LSTM(128, dropout=0.2))\n",
    "model.add(layers.Dense(64, activation='relu'))\n",
    "model.add(layers.Dense(32, activation='relu'))\n",
    "model.add(layers.Dense(3, activation='softmax'))"
   ]
  },
  {
   "cell_type": "code",
   "execution_count": 52,
   "metadata": {},
   "outputs": [],
   "source": [
    "from keras.optimizers import SGD\n",
    "model.compile(loss='categorical_crossentropy', optimizer='adam', metrics=['accuracy'])"
   ]
  },
  {
   "cell_type": "code",
   "execution_count": 53,
   "metadata": {},
   "outputs": [
    {
     "name": "stdout",
     "output_type": "stream",
     "text": [
      "Epoch 1/20\n",
      "220/220 [==============================] - 15s 55ms/step - loss: 0.8674 - accuracy: 0.6156\n",
      "Epoch 2/20\n",
      "220/220 [==============================] - 12s 56ms/step - loss: 0.8997 - accuracy: 0.5955\n",
      "Epoch 3/20\n",
      "220/220 [==============================] - 12s 54ms/step - loss: 0.8275 - accuracy: 0.6341\n",
      "Epoch 4/20\n",
      "220/220 [==============================] - 12s 54ms/step - loss: 0.5847 - accuracy: 0.7719\n",
      "Epoch 5/20\n",
      "220/220 [==============================] - 12s 54ms/step - loss: 0.5693 - accuracy: 0.7723\n",
      "Epoch 6/20\n",
      "220/220 [==============================] - 12s 54ms/step - loss: 0.5598 - accuracy: 0.7689\n",
      "Epoch 7/20\n",
      "220/220 [==============================] - 12s 56ms/step - loss: 0.5022 - accuracy: 0.8077\n",
      "Epoch 8/20\n",
      "220/220 [==============================] - 12s 55ms/step - loss: 0.3808 - accuracy: 0.8494\n",
      "Epoch 9/20\n",
      "220/220 [==============================] - 12s 55ms/step - loss: 0.4446 - accuracy: 0.8220\n",
      "Epoch 10/20\n",
      "220/220 [==============================] - 12s 55ms/step - loss: 0.3869 - accuracy: 0.8446\n",
      "Epoch 11/20\n",
      "220/220 [==============================] - 12s 55ms/step - loss: 0.2512 - accuracy: 0.9075\n",
      "Epoch 12/20\n",
      "220/220 [==============================] - 12s 55ms/step - loss: 0.1407 - accuracy: 0.9538\n",
      "Epoch 13/20\n",
      "220/220 [==============================] - 12s 57ms/step - loss: 0.1016 - accuracy: 0.9705\n",
      "Epoch 14/20\n",
      "220/220 [==============================] - 13s 58ms/step - loss: 0.0705 - accuracy: 0.9788\n",
      "Epoch 15/20\n",
      "220/220 [==============================] - 13s 57ms/step - loss: 0.0589 - accuracy: 0.9841\n",
      "Epoch 16/20\n",
      "220/220 [==============================] - 14s 62ms/step - loss: 0.0474 - accuracy: 0.9876\n",
      "Epoch 17/20\n",
      "220/220 [==============================] - 11s 51ms/step - loss: 0.0467 - accuracy: 0.9872\n",
      "Epoch 18/20\n",
      "220/220 [==============================] - 11s 48ms/step - loss: 0.0362 - accuracy: 0.9915\n",
      "Epoch 19/20\n",
      "220/220 [==============================] - 11s 52ms/step - loss: 0.0300 - accuracy: 0.9925\n",
      "Epoch 20/20\n",
      "220/220 [==============================] - 12s 56ms/step - loss: 0.0265 - accuracy: 0.9933\n"
     ]
    },
    {
     "data": {
      "text/plain": [
       "<keras.src.callbacks.History at 0x13bc11350>"
      ]
     },
     "execution_count": 53,
     "metadata": {},
     "output_type": "execute_result"
    }
   ],
   "source": [
    "maximum_index_training = int(np.floor(train_padded.shape[0]/batch_sizes)*batch_sizes)\n",
    "model.fit(x=train_padded[:maximum_index_training], \n",
    "          y=train_labels[:maximum_index_training],\n",
    "          batch_size=batch_sizes,\n",
    "          epochs=20,\n",
    "          shuffle=True\n",
    "         )"
   ]
  },
  {
   "cell_type": "code",
   "execution_count": 63,
   "metadata": {},
   "outputs": [
    {
     "name": "stdout",
     "output_type": "stream",
     "text": [
      "Epoch 1/20\n",
      "220/220 [==============================] - 11s 37ms/step - loss: 0.8688 - accuracy: 0.6030\n",
      "Epoch 2/20\n",
      "220/220 [==============================] - 8s 37ms/step - loss: 0.7938 - accuracy: 0.6509\n",
      "Epoch 3/20\n",
      "220/220 [==============================] - 7s 34ms/step - loss: 0.8971 - accuracy: 0.5955\n",
      "Epoch 4/20\n",
      "220/220 [==============================] - 7s 30ms/step - loss: 0.8117 - accuracy: 0.6452\n",
      "Epoch 5/20\n",
      "220/220 [==============================] - 6s 29ms/step - loss: 0.5741 - accuracy: 0.7777\n",
      "Epoch 6/20\n",
      "220/220 [==============================] - 7s 31ms/step - loss: 0.4286 - accuracy: 0.8251\n",
      "Epoch 7/20\n",
      "220/220 [==============================] - 7s 30ms/step - loss: 0.2700 - accuracy: 0.9143\n",
      "Epoch 8/20\n",
      "220/220 [==============================] - 6s 29ms/step - loss: 0.1693 - accuracy: 0.9476\n",
      "Epoch 9/20\n",
      "220/220 [==============================] - 7s 30ms/step - loss: 0.1160 - accuracy: 0.9648\n",
      "Epoch 10/20\n",
      "220/220 [==============================] - 7s 30ms/step - loss: 0.0854 - accuracy: 0.9744\n",
      "Epoch 11/20\n",
      "220/220 [==============================] - 7s 34ms/step - loss: 0.0580 - accuracy: 0.9844\n",
      "Epoch 12/20\n",
      "220/220 [==============================] - 6s 30ms/step - loss: 0.0537 - accuracy: 0.9855\n",
      "Epoch 13/20\n",
      "220/220 [==============================] - 7s 30ms/step - loss: 0.0423 - accuracy: 0.9884\n",
      "Epoch 14/20\n",
      "220/220 [==============================] - 7s 30ms/step - loss: 0.0392 - accuracy: 0.9908\n",
      "Epoch 15/20\n",
      "220/220 [==============================] - 6s 29ms/step - loss: 0.0441 - accuracy: 0.9891\n",
      "Epoch 16/20\n",
      "220/220 [==============================] - 7s 30ms/step - loss: 0.0338 - accuracy: 0.9928\n",
      "Epoch 17/20\n",
      "220/220 [==============================] - 7s 30ms/step - loss: 0.0303 - accuracy: 0.9923\n",
      "Epoch 18/20\n",
      "220/220 [==============================] - 7s 30ms/step - loss: 0.0245 - accuracy: 0.9947\n",
      "Epoch 19/20\n",
      "220/220 [==============================] - 7s 30ms/step - loss: 0.0220 - accuracy: 0.9952\n",
      "Epoch 20/20\n",
      "220/220 [==============================] - 7s 30ms/step - loss: 0.0202 - accuracy: 0.9960\n"
     ]
    },
    {
     "data": {
      "text/plain": [
       "<keras.src.callbacks.History at 0x13c7957d0>"
      ]
     },
     "execution_count": 63,
     "metadata": {},
     "output_type": "execute_result"
    }
   ],
   "source": [
    "model2 = Sequential()\n",
    "model2.add(layers.Embedding(input_dim=len(tokenizer.index_word)+1,\n",
    "                                 output_dim=100, \n",
    "                                 input_length=max_len))\n",
    "model2.add(layers.LSTM(64, dropout=0.2))\n",
    "model2.add(layers.Dense(32, activation='relu'))\n",
    "model2.add(layers.Dense(16, activation='relu'))\n",
    "model2.add(layers.Dense(8, activation='relu'))\n",
    "model2.add(layers.Dense(3, activation='softmax'))\n",
    "\n",
    "from keras.optimizers import SGD\n",
    "model2.compile(loss='categorical_crossentropy', optimizer='adam', metrics=['accuracy'])\n",
    "\n",
    "maximum_index_training = int(np.floor(train_padded.shape[0]/batch_sizes)*batch_sizes)\n",
    "model2.fit(x=train_padded[:maximum_index_training], \n",
    "          y=train_labels[:maximum_index_training],\n",
    "          batch_size=batch_sizes,\n",
    "          epochs=20,\n",
    "          shuffle=True\n",
    "         )"
   ]
  },
  {
   "cell_type": "code",
   "execution_count": 64,
   "metadata": {},
   "outputs": [
    {
     "name": "stdout",
     "output_type": "stream",
     "text": [
      "Epoch 1/20\n",
      "220/220 [==============================] - 8s 38ms/step - loss: 0.0184 - accuracy: 0.9967 - val_loss: 1.1106 - val_accuracy: 0.8068\n",
      "Epoch 2/20\n",
      "220/220 [==============================] - 8s 36ms/step - loss: 0.0301 - accuracy: 0.9935 - val_loss: 1.1882 - val_accuracy: 0.8153\n",
      "Epoch 3/20\n",
      "220/220 [==============================] - 8s 35ms/step - loss: 0.0190 - accuracy: 0.9966 - val_loss: 1.1917 - val_accuracy: 0.8131\n",
      "Epoch 4/20\n",
      "220/220 [==============================] - 8s 36ms/step - loss: 0.0163 - accuracy: 0.9969 - val_loss: 1.3300 - val_accuracy: 0.8119\n",
      "Epoch 5/20\n",
      "220/220 [==============================] - 8s 35ms/step - loss: 0.0335 - accuracy: 0.9874 - val_loss: 1.1535 - val_accuracy: 0.8131\n",
      "Epoch 6/20\n",
      "220/220 [==============================] - 8s 35ms/step - loss: 0.0353 - accuracy: 0.9893 - val_loss: 1.1887 - val_accuracy: 0.8125\n",
      "Epoch 7/20\n",
      "220/220 [==============================] - 8s 37ms/step - loss: 0.0165 - accuracy: 0.9963 - val_loss: 1.2045 - val_accuracy: 0.8108\n",
      "Epoch 8/20\n",
      "220/220 [==============================] - 8s 36ms/step - loss: 0.0162 - accuracy: 0.9967 - val_loss: 1.2421 - val_accuracy: 0.8114\n",
      "Epoch 9/20\n",
      "220/220 [==============================] - 8s 37ms/step - loss: 0.0153 - accuracy: 0.9969 - val_loss: 1.3323 - val_accuracy: 0.8091\n",
      "Epoch 10/20\n",
      "220/220 [==============================] - 8s 37ms/step - loss: 0.0189 - accuracy: 0.9962 - val_loss: 1.3166 - val_accuracy: 0.8125\n",
      "Epoch 11/20\n",
      "220/220 [==============================] - 8s 37ms/step - loss: 0.0127 - accuracy: 0.9973 - val_loss: 1.3823 - val_accuracy: 0.8102\n",
      "Epoch 11: early stopping\n"
     ]
    },
    {
     "data": {
      "image/png": "[encoded data removed]",
      "text/plain": [
       "<Figure size 1200x500 with 2 Axes>"
      ]
     },
     "metadata": {},
     "output_type": "display_data"
    }
   ],
   "source": [
    "import matplotlib.pyplot as plt\n",
    "plt.style.use('ggplot')\n",
    "\n",
    "# Train your model and store the training history using the `history` object\n",
    "early_stopping = EarlyStopping(monitor='val_loss', mode='min', patience=10, verbose=1)\n",
    "history2 = model2.fit(train_padded, train_labels, epochs=20, batch_size=batch_sizes, validation_data=(val_padded, valid_labels),shuffle=True, callbacks=[early_stopping])\n",
    "\n",
    "def plot_history(history2):\n",
    "    acc = history2.history['accuracy']  # Access accuracy from history object\n",
    "    val_acc = history2.history['val_accuracy']  # Access validation accuracy from history object\n",
    "    loss = history2.history['loss']  # Access training loss from history object\n",
    "    val_loss = history2.history['val_loss']  # Access validation loss from history object\n",
    "    x = range(1, len(acc) + 1)\n",
    "\n",
    "    plt.figure(figsize=(12, 5))\n",
    "    plt.subplot(1, 2, 1)\n",
    "    plt.plot(x, acc, 'b', label='Training acc')\n",
    "    plt.plot(x, val_acc, 'r', label='Validation acc')\n",
    "    plt.title('Training and validation accuracy')\n",
    "    plt.legend()\n",
    "    plt.subplot(1, 2, 2)\n",
    "    plt.plot(x, loss, 'b', label='Training loss')\n",
    "    plt.plot(x, val_loss, 'r', label='Validation loss')\n",
    "    plt.title('Training and validation loss')\n",
    "    plt.legend()\n",
    "\n",
    "%matplotlib inline\n",
    "plot_history(history2)\n"
   ]
  },
  {
   "cell_type": "code",
   "execution_count": 61,
   "metadata": {},
   "outputs": [],
   "source": [
    "pickle.dump(model, open('model_lstm.h5','wb'))"
   ]
  },
  {
   "cell_type": "code",
   "execution_count": 62,
   "metadata": {},
   "outputs": [
    {
     "name": "stderr",
     "output_type": "stream",
     "text": [
      "/Library/Frameworks/Python.framework/Versions/3.11/lib/python3.11/site-packages/keras/src/engine/training.py:3000: UserWarning: You are saving your model as an HDF5 file via `model.save()`. This file format is considered legacy. We recommend using instead the native Keras format, e.g. `model.save('my_model.keras')`.\n",
      "  saving_api.save_model(\n"
     ]
    }
   ],
   "source": [
    "model.save('lstmmodels.h5')"
   ]
  },
  {
   "cell_type": "code",
   "execution_count": 63,
   "metadata": {},
   "outputs": [],
   "source": [
    "pickle.dump(onehot, open('onehot.pkl', 'wb'))"
   ]
  },
  {
   "cell_type": "code",
   "execution_count": 64,
   "metadata": {},
   "outputs": [],
   "source": [
    "pickle.dump(tokenizer, open('tokenizer.pkl', 'wb'))"
   ]
  },
  {
   "cell_type": "code",
   "execution_count": 65,
   "metadata": {},
   "outputs": [],
   "source": [
    "pickle.dump(pad_sequences, open('pad_sequence.pkl', 'wb'))"
   ]
  },
  {
   "cell_type": "code",
   "execution_count": 66,
   "metadata": {},
   "outputs": [],
   "source": [
    "pickle.dump(input_len, open('input_len.pkl', 'wb'))"
   ]
  },
  {
   "cell_type": "code",
   "execution_count": 27,
   "metadata": {},
   "outputs": [
    {
     "name": "stdout",
     "output_type": "stream",
     "text": [
      "1760/1760 [==============================] - 9s 5ms/step\n"
     ]
    }
   ],
   "source": [
    "y_predict = model.predict(val_padded, batch_size=1)"
   ]
  },
  {
   "cell_type": "code",
   "execution_count": 35,
   "metadata": {},
   "outputs": [
    {
     "data": {
      "text/plain": [
       "0.8403409090909091"
      ]
     },
     "execution_count": 35,
     "metadata": {},
     "output_type": "execute_result"
    }
   ],
   "source": [
    "y_predictive = onehot.inverse_transform(y_predict).reshape(-1)\n",
    "accuracy_score(y_pred=y_predictive, y_true=val_data['label'])"
   ]
  },
  {
   "cell_type": "code",
   "execution_count": 69,
   "metadata": {},
   "outputs": [
    {
     "name": "stdout",
     "output_type": "stream",
     "text": [
      "<keras.src.engine.sequential.Sequential object at 0x1316c4e90>\n"
     ]
    }
   ],
   "source": [
    "with open('/Users/januardopanggabean/VSCE Platinum Challenge/FD Materials/model_lstm.h5', 'rb') as file:\n",
    "    loaded_model = pickle.load(file)\n",
    "\n",
    "# Verify the loaded model (optional)\n",
    "print(loaded_model)"
   ]
  },
  {
   "cell_type": "code",
   "execution_count": 54,
   "metadata": {},
   "outputs": [
    {
     "name": "stdout",
     "output_type": "stream",
     "text": [
      "Epoch 1/20\n",
      "220/220 [==============================] - 14s 63ms/step - loss: 0.0221 - accuracy: 0.9949 - val_loss: 0.9947 - val_accuracy: 0.8182\n",
      "Epoch 2/20\n",
      "220/220 [==============================] - 13s 60ms/step - loss: 0.0371 - accuracy: 0.9886 - val_loss: 0.9742 - val_accuracy: 0.8170\n",
      "Epoch 3/20\n",
      "220/220 [==============================] - 15s 67ms/step - loss: 0.0239 - accuracy: 0.9935 - val_loss: 1.0016 - val_accuracy: 0.8097\n",
      "Epoch 4/20\n",
      "220/220 [==============================] - 14s 66ms/step - loss: 0.0206 - accuracy: 0.9942 - val_loss: 1.1296 - val_accuracy: 0.8068\n",
      "Epoch 5/20\n",
      "220/220 [==============================] - 13s 60ms/step - loss: 0.0232 - accuracy: 0.9940 - val_loss: 1.0435 - val_accuracy: 0.8148\n",
      "Epoch 6/20\n",
      "220/220 [==============================] - 13s 60ms/step - loss: 0.0149 - accuracy: 0.9962 - val_loss: 1.1568 - val_accuracy: 0.8159\n",
      "Epoch 7/20\n",
      "220/220 [==============================] - 13s 61ms/step - loss: 0.0125 - accuracy: 0.9966 - val_loss: 1.3119 - val_accuracy: 0.8051\n",
      "Epoch 8/20\n",
      "220/220 [==============================] - 13s 60ms/step - loss: 0.0154 - accuracy: 0.9969 - val_loss: 1.1329 - val_accuracy: 0.8256\n",
      "Epoch 9/20\n",
      "220/220 [==============================] - 13s 61ms/step - loss: 0.0109 - accuracy: 0.9974 - val_loss: 1.0840 - val_accuracy: 0.8278\n",
      "Epoch 10/20\n",
      "220/220 [==============================] - 13s 60ms/step - loss: 0.0088 - accuracy: 0.9987 - val_loss: 1.1968 - val_accuracy: 0.8278\n",
      "Epoch 11/20\n",
      "220/220 [==============================] - 13s 60ms/step - loss: 0.0130 - accuracy: 0.9967 - val_loss: 1.1157 - val_accuracy: 0.8199\n",
      "Epoch 12/20\n",
      "220/220 [==============================] - 13s 60ms/step - loss: 0.0392 - accuracy: 0.9865 - val_loss: 1.1605 - val_accuracy: 0.8114\n",
      "Epoch 12: early stopping\n"
     ]
    },
    {
     "data": {
      "image/png": "[encoded data removed]",
      "text/plain": [
       "<Figure size 1200x500 with 2 Axes>"
      ]
     },
     "metadata": {},
     "output_type": "display_data"
    }
   ],
   "source": [
    "import matplotlib.pyplot as plt\n",
    "plt.style.use('ggplot')\n",
    "\n",
    "# Train your model and store the training history using the `history` object\n",
    "early_stopping = EarlyStopping(monitor='val_loss', mode='min', patience=10, verbose=1)\n",
    "history = model.fit(train_padded, train_labels, epochs=20, batch_size=batch_sizes, validation_data=(val_padded, valid_labels),shuffle=True, callbacks=[early_stopping])\n",
    "\n",
    "def plot_history(history):\n",
    "    acc = history.history['accuracy']  # Access accuracy from history object\n",
    "    val_acc = history.history['val_accuracy']  # Access validation accuracy from history object\n",
    "    loss = history.history['loss']  # Access training loss from history object\n",
    "    val_loss = history.history['val_loss']  # Access validation loss from history object\n",
    "    x = range(1, len(acc) + 1)\n",
    "\n",
    "    plt.figure(figsize=(12, 5))\n",
    "    plt.subplot(1, 2, 1)\n",
    "    plt.plot(x, acc, 'b', label='Training acc')\n",
    "    plt.plot(x, val_acc, 'r', label='Validation acc')\n",
    "    plt.title('Training and validation accuracy')\n",
    "    plt.legend()\n",
    "    plt.subplot(1, 2, 2)\n",
    "    plt.plot(x, loss, 'b', label='Training loss')\n",
    "    plt.plot(x, val_loss, 'r', label='Validation loss')\n",
    "    plt.title('Training and validation loss')\n",
    "    plt.legend()\n",
    "\n",
    "%matplotlib inline\n",
    "plot_history(history)\n"
   ]
  },
  {
   "cell_type": "code",
   "execution_count": 71,
   "metadata": {},
   "outputs": [
    {
     "name": "stdout",
     "output_type": "stream",
     "text": [
      "7040\n"
     ]
    }
   ],
   "source": [
    "print(maximum_index_training)"
   ]
  },
  {
   "cell_type": "code",
   "execution_count": 72,
   "metadata": {},
   "outputs": [
    {
     "name": "stdout",
     "output_type": "stream",
     "text": [
      "(7040, 60)\n"
     ]
    }
   ],
   "source": [
    "print(train_padded.shape)"
   ]
  },
  {
   "cell_type": "code",
   "execution_count": null,
   "metadata": {},
   "outputs": [],
   "source": []
  }
 ],
 "metadata": {
  "kernelspec": {
   "display_name": "Python 3",
   "language": "python",
   "name": "python3"
  },
  "language_info": {
   "codemirror_mode": {
    "name": "ipython",
    "version": 3
   },
   "file_extension": ".py",
   "mimetype": "text/x-python",
   "name": "python",
   "nbconvert_exporter": "python",
   "pygments_lexer": "ipython3",
   "version": "3.11.3"
  },
  "orig_nbformat": 4
 },
 "nbformat": 4,
 "nbformat_minor": 2
}
