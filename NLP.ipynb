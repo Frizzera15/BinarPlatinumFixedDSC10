{
 "cells": [
  {
   "cell_type": "code",
   "execution_count": 28,
   "metadata": {},
   "outputs": [],
   "source": [
    "import pandas as pd\n",
    "from sklearn.feature_extraction.text import CountVectorizer\n",
    "from sklearn.preprocessing import LabelEncoder\n",
    "from sklearn.model_selection import train_test_split, KFold\n",
    "from sklearn.naive_bayes import MultinomialNB\n",
    "from sklearn.neural_network import MLPClassifier\n",
    "from sklearn.linear_model import LogisticRegression\n",
    "from sklearn.svm import SVC\n",
    "from sklearn.metrics import classification_report, accuracy_score\n",
    "import numpy as np\n",
    "from PlatinumGroup1BaseData import fullcleanse, textcleansing\n",
    "import pickle"
   ]
  },
  {
   "cell_type": "code",
   "execution_count": 29,
   "metadata": {},
   "outputs": [],
   "source": [
    "processed_data = pd.read_csv('/Users/januardopanggabean/Challenge Platinum Binar/data/processed_data.csv')\n",
    "train_data, test_data = train_test_split(processed_data, test_size=0.2)\n",
    "train_data, val_data = train_test_split(train_data, test_size=0.2)\n",
    "merged_data = pd.concat((train_data, val_data), axis=0)"
   ]
  },
  {
   "cell_type": "code",
   "execution_count": 30,
   "metadata": {},
   "outputs": [],
   "source": [
    "cv = CountVectorizer()\n",
    "train_transformed = cv.fit_transform(train_data['clean_text'])\n",
    "test_transformed = cv.transform(test_data['clean_text'])\n",
    "val_transformed = cv.transform(val_data['clean_text'])"
   ]
  },
  {
   "cell_type": "code",
   "execution_count": 31,
   "metadata": {},
   "outputs": [],
   "source": [
    "le = LabelEncoder()\n",
    "train_label = le.fit_transform(train_data['labels'])\n",
    "test_label = le.transform(test_data['labels'])\n",
    "val_label = le.transform(val_data['labels'])"
   ]
  },
  {
   "cell_type": "code",
   "execution_count": 32,
   "metadata": {},
   "outputs": [],
   "source": [
    "mnb = MultinomialNB()\n",
    "mlp = MLPClassifier()\n",
    "lr = LogisticRegression(max_iter=1000)\n",
    "svc = SVC()"
   ]
  },
  {
   "cell_type": "code",
   "execution_count": 33,
   "metadata": {},
   "outputs": [],
   "source": [
    "MLPC_model = mlp.fit(train_transformed, train_label)\n",
    "LR_Model = lr.fit(train_transformed, train_label)\n",
    "MNB_model = mnb.fit(train_transformed, train_label)\n",
    "SVC_model = svc.fit(train_transformed, train_label)"
   ]
  },
  {
   "cell_type": "code",
   "execution_count": 34,
   "metadata": {},
   "outputs": [],
   "source": [
    "pickle.dump(MLPC_model, open('model_mlpc.h5','wb'))"
   ]
  },
  {
   "cell_type": "code",
   "execution_count": 35,
   "metadata": {},
   "outputs": [],
   "source": [
    "pickle.dump(cv,open('CountVectorizer.pkl','wb'))"
   ]
  },
  {
   "cell_type": "code",
   "execution_count": 36,
   "metadata": {},
   "outputs": [],
   "source": [
    "pickle.dump(le,open('LabelEncoder.pkl', 'wb'))"
   ]
  },
  {
   "cell_type": "code",
   "execution_count": 37,
   "metadata": {},
   "outputs": [],
   "source": [
    "y_predict_mlp = mlp.predict(val_transformed)\n",
    "y_predict_lr = lr.predict(val_transformed)\n",
    "y_predict_mnb = mnb.predict(val_transformed)\n",
    "y_predict_svc = svc.predict(val_transformed)"
   ]
  },
  {
   "cell_type": "code",
   "execution_count": 38,
   "metadata": {},
   "outputs": [
    {
     "name": "stdout",
     "output_type": "stream",
     "text": [
      "############################################################################\n",
      "Accuracy for Logistic Regression\n",
      "              precision    recall  f1-score   support\n",
      "\n",
      "           0       0.81      0.84      0.83       545\n",
      "           1       0.82      0.79      0.81       189\n",
      "           2       0.92      0.91      0.91      1026\n",
      "\n",
      "    accuracy                           0.88      1760\n",
      "   macro avg       0.85      0.85      0.85      1760\n",
      "weighted avg       0.88      0.88      0.88      1760\n",
      "\n",
      "############################################################################\n",
      "Accuracy for Multi Layer Process\n",
      "              precision    recall  f1-score   support\n",
      "\n",
      "           0       0.79      0.80      0.80       545\n",
      "           1       0.82      0.73      0.77       189\n",
      "           2       0.89      0.91      0.90      1026\n",
      "\n",
      "    accuracy                           0.86      1760\n",
      "   macro avg       0.84      0.81      0.82      1760\n",
      "weighted avg       0.85      0.86      0.85      1760\n",
      "\n",
      "############################################################################\n",
      "Accuracy for Naive Bayes Method\n",
      "              precision    recall  f1-score   support\n",
      "\n",
      "           0       0.76      0.81      0.78       545\n",
      "           1       0.94      0.65      0.76       189\n",
      "           2       0.89      0.91      0.90      1026\n",
      "\n",
      "    accuracy                           0.85      1760\n",
      "   macro avg       0.86      0.79      0.82      1760\n",
      "weighted avg       0.86      0.85      0.85      1760\n",
      "\n",
      "############################################################################\n",
      "Accuracy for SVC\n",
      "              precision    recall  f1-score   support\n",
      "\n",
      "           0       0.76      0.84      0.80       545\n",
      "           1       0.85      0.70      0.77       189\n",
      "           2       0.91      0.89      0.90      1026\n",
      "\n",
      "    accuracy                           0.86      1760\n",
      "   macro avg       0.84      0.81      0.82      1760\n",
      "weighted avg       0.86      0.86      0.86      1760\n",
      "\n",
      "############################################################################\n"
     ]
    }
   ],
   "source": [
    "print(\"############################################################################\")\n",
    "\n",
    "print('Accuracy for Logistic Regression')\n",
    "print(classification_report(y_pred=y_predict_lr, y_true=val_label))\n",
    "\n",
    "print(\"############################################################################\")\n",
    "\n",
    "print('Accuracy for Multi Layer Process')\n",
    "print(classification_report(y_pred=y_predict_mlp, y_true=val_label))\n",
    "\n",
    "print(\"############################################################################\")\n",
    "\n",
    "print('Accuracy for Naive Bayes Method')\n",
    "print(classification_report(y_pred=y_predict_mnb, y_true=val_label))\n",
    "\n",
    "print(\"############################################################################\")\n",
    "\n",
    "print('Accuracy for SVC')\n",
    "print(classification_report(y_pred=y_predict_svc, y_true=val_label))\n",
    "\n",
    "print(\"############################################################################\")\n"
   ]
  },
  {
   "cell_type": "code",
   "execution_count": 39,
   "metadata": {},
   "outputs": [],
   "source": [
    "k_fold = KFold(n_splits=5,shuffle=True,random_state=0)"
   ]
  },
  {
   "cell_type": "code",
   "execution_count": 40,
   "metadata": {},
   "outputs": [
    {
     "name": "stdout",
     "output_type": "stream",
     "text": [
      "#######################################################\n",
      " \n",
      "              precision    recall  f1-score   support\n",
      "\n",
      "           0       0.76      0.80      0.78       460\n",
      "           1       0.78      0.59      0.67       165\n",
      "           2       0.87      0.89      0.88       783\n",
      "\n",
      "    accuracy                           0.83      1408\n",
      "   macro avg       0.80      0.76      0.78      1408\n",
      "weighted avg       0.82      0.83      0.82      1408\n",
      "\n",
      "Nilai akurasi model adalah: \n",
      "0.8252840909090909\n",
      " \n",
      "#######################################################\n",
      "#######################################################\n",
      " \n",
      "              precision    recall  f1-score   support\n",
      "\n",
      "           0       0.75      0.78      0.77       414\n",
      "           1       0.80      0.59      0.68       145\n",
      "           2       0.88      0.90      0.89       849\n",
      "\n",
      "    accuracy                           0.83      1408\n",
      "   macro avg       0.81      0.76      0.78      1408\n",
      "weighted avg       0.83      0.83      0.83      1408\n",
      "\n",
      "Nilai akurasi model adalah: \n",
      "0.8323863636363636\n",
      " \n",
      "#######################################################\n",
      "#######################################################\n",
      " \n",
      "              precision    recall  f1-score   support\n",
      "\n",
      "           0       0.74      0.79      0.77       437\n",
      "           1       0.75      0.59      0.66       147\n",
      "           2       0.87      0.88      0.87       824\n",
      "\n",
      "    accuracy                           0.82      1408\n",
      "   macro avg       0.79      0.75      0.77      1408\n",
      "weighted avg       0.82      0.82      0.82      1408\n",
      "\n",
      "Nilai akurasi model adalah: \n",
      "0.8196022727272727\n",
      " \n",
      "#######################################################\n",
      "#######################################################\n",
      " \n",
      "              precision    recall  f1-score   support\n",
      "\n",
      "           0       0.78      0.78      0.78       448\n",
      "           1       0.76      0.59      0.66       131\n",
      "           2       0.87      0.90      0.89       829\n",
      "\n",
      "    accuracy                           0.84      1408\n",
      "   macro avg       0.81      0.76      0.78      1408\n",
      "weighted avg       0.83      0.84      0.83      1408\n",
      "\n",
      "Nilai akurasi model adalah: \n",
      "0.8359375\n",
      " \n",
      "#######################################################\n",
      "#######################################################\n",
      " \n",
      "              precision    recall  f1-score   support\n",
      "\n",
      "           0       0.77      0.73      0.75       453\n",
      "           1       0.74      0.64      0.69       142\n",
      "           2       0.85      0.90      0.87       813\n",
      "\n",
      "    accuracy                           0.82      1408\n",
      "   macro avg       0.79      0.75      0.77      1408\n",
      "weighted avg       0.81      0.82      0.81      1408\n",
      "\n",
      "Nilai akurasi model adalah: \n",
      "0.8160511363636364\n",
      " \n",
      "#######################################################\n"
     ]
    }
   ],
   "source": [
    "for train_index, test_index in k_fold.split(train_data):\n",
    "    \n",
    "    train_data_fold = train_data.iloc[train_index]\n",
    "    test_data_fold = train_data.iloc[test_index]\n",
    "    \n",
    "    train_kdata_transformed = cv.fit_transform(train_data_fold['clean_text'])\n",
    "    test_kdata_transformed = cv.transform(test_data_fold['clean_text'])\n",
    "    \n",
    "    train_klabel = le.fit_transform(train_data_fold['labels'])\n",
    "    test_klabel = le.transform(test_data_fold['labels'])\n",
    "        \n",
    "    mlp.fit(train_kdata_transformed, train_klabel)\n",
    "    y_kpred = mlp.predict(test_kdata_transformed)\n",
    "    accuracy = accuracy_score(y_pred=y_kpred, y_true=test_klabel)\n",
    "    print(\"#######################################################\")\n",
    "    print(\" \")\n",
    "    print(classification_report(y_pred = y_kpred, y_true=test_klabel))\n",
    "\n",
    "    print(\"Nilai akurasi model adalah: \")\n",
    "    print(accuracy)\n",
    "    print(\" \")\n",
    "    print(\"#######################################################\")"
   ]
  },
  {
   "cell_type": "code",
   "execution_count": 41,
   "metadata": {},
   "outputs": [
    {
     "name": "stdout",
     "output_type": "stream",
     "text": [
      "Sentiment Encoded:\n",
      "1\n",
      "Sentiment Decoded:\n",
      "['neutral']\n",
      "Safe Progress\n",
      "Progress aman sampai disini\n"
     ]
    }
   ],
   "source": [
    "original_text = \"saya pergi ke kantor untuk bekerja\"\n",
    "\n",
    "text = cv.transform([textcleansing(original_text)])\n",
    "\n",
    "result = MLPC_model.predict(text)[0]\n",
    "decoded_result = le.inverse_transform([result])\n",
    "print(\"Sentiment Encoded:\")\n",
    "print(result)\n",
    "\n",
    "print(\"Sentiment Decoded:\")\n",
    "print(decoded_result)\n",
    "\n",
    "\n",
    "print('Safe Progress')\n",
    "\n",
    "\n",
    "print('Progress aman sampai disini')\n"
   ]
  }
 ],
 "metadata": {
  "kernelspec": {
   "display_name": "Python 3",
   "language": "python",
   "name": "python3"
  },
  "language_info": {
   "codemirror_mode": {
    "name": "ipython",
    "version": 3
   },
   "file_extension": ".py",
   "mimetype": "text/x-python",
   "name": "python",
   "nbconvert_exporter": "python",
   "pygments_lexer": "ipython3",
   "version": "3.11.2"
  },
  "orig_nbformat": 4
 },
 "nbformat": 4,
 "nbformat_minor": 2
}
